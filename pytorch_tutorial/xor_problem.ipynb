{
 "cells": [
  {
   "cell_type": "code",
   "execution_count": 1,
   "metadata": {},
   "outputs": [],
   "source": [
    "import numpy as np\n",
    "import pandas as pd\n",
    "import matplotlib.pyplot as plt\n",
    "import torch"
   ]
  },
  {
   "cell_type": "code",
   "execution_count": 2,
   "metadata": {},
   "outputs": [],
   "source": [
    "x_input = torch.FloatTensor([[0,0], [1,0], [0,1], [1,1]])\n",
    "y_output = torch.FloatTensor([[0],[1],[1],[0]])"
   ]
  },
  {
   "cell_type": "code",
   "execution_count": 7,
   "metadata": {},
   "outputs": [],
   "source": [
    "# Make a hyper plane\n",
    "hyperplane = torch.nn.Linear(2,2)\n",
    "activ_sigm = torch.nn.Sigmoid()\n",
    "hyperplane2 = torch.nn.Linear(2,1)\n",
    "activ_sigm2 = torch.nn.Sigmoid()\n",
    "model = torch.nn.Sequential(hyperplane, activ_sigm, hyperplane2, activ_sigm2)"
   ]
  },
  {
   "cell_type": "code",
   "execution_count": 8,
   "metadata": {},
   "outputs": [],
   "source": [
    "# Loss and optimizer are defined\n",
    "criterion = torch.nn.BCELoss() # Binary Cross Entropy\n",
    "optimizer = torch.optim.Adam(model.parameters()) # adam optimizer"
   ]
  },
  {
   "cell_type": "code",
   "execution_count": 9,
   "metadata": {},
   "outputs": [
    {
     "name": "stdout",
     "output_type": "stream",
     "text": [
      "Epoch  100/5000 Loss: 0.746103\n",
      "Epoch  200/5000 Loss: 0.721947\n",
      "Epoch  300/5000 Loss: 0.707687\n",
      "Epoch  400/5000 Loss: 0.699695\n",
      "Epoch  500/5000 Loss: 0.695710\n",
      "Epoch  600/5000 Loss: 0.694006\n",
      "Epoch  700/5000 Loss: 0.693323\n",
      "Epoch  800/5000 Loss: 0.692904\n",
      "Epoch  900/5000 Loss: 0.692387\n",
      "Epoch 1000/5000 Loss: 0.691604\n",
      "Epoch 1100/5000 Loss: 0.690369\n",
      "Epoch 1200/5000 Loss: 0.688434\n",
      "Epoch 1300/5000 Loss: 0.685539\n",
      "Epoch 1400/5000 Loss: 0.681448\n",
      "Epoch 1500/5000 Loss: 0.676010\n",
      "Epoch 1600/5000 Loss: 0.669236\n",
      "Epoch 1700/5000 Loss: 0.661294\n",
      "Epoch 1800/5000 Loss: 0.652425\n",
      "Epoch 1900/5000 Loss: 0.642859\n",
      "Epoch 2000/5000 Loss: 0.632729\n",
      "Epoch 2100/5000 Loss: 0.622039\n",
      "Epoch 2200/5000 Loss: 0.610633\n",
      "Epoch 2300/5000 Loss: 0.598201\n",
      "Epoch 2400/5000 Loss: 0.584341\n",
      "Epoch 2500/5000 Loss: 0.568696\n",
      "Epoch 2600/5000 Loss: 0.551124\n",
      "Epoch 2700/5000 Loss: 0.531778\n",
      "Epoch 2800/5000 Loss: 0.511061\n",
      "Epoch 2900/5000 Loss: 0.489496\n",
      "Epoch 3000/5000 Loss: 0.467604\n",
      "Epoch 3100/5000 Loss: 0.445826\n",
      "Epoch 3200/5000 Loss: 0.424501\n",
      "Epoch 3300/5000 Loss: 0.403861\n",
      "Epoch 3400/5000 Loss: 0.384054\n",
      "Epoch 3500/5000 Loss: 0.365164\n",
      "Epoch 3600/5000 Loss: 0.347226\n",
      "Epoch 3700/5000 Loss: 0.330243\n",
      "Epoch 3800/5000 Loss: 0.314195\n",
      "Epoch 3900/5000 Loss: 0.299052\n",
      "Epoch 4000/5000 Loss: 0.284771\n",
      "Epoch 4100/5000 Loss: 0.271309\n",
      "Epoch 4200/5000 Loss: 0.258618\n",
      "Epoch 4300/5000 Loss: 0.246651\n",
      "Epoch 4400/5000 Loss: 0.235364\n",
      "Epoch 4500/5000 Loss: 0.224712\n",
      "Epoch 4600/5000 Loss: 0.214655\n",
      "Epoch 4700/5000 Loss: 0.205151\n",
      "Epoch 4800/5000 Loss: 0.196166\n",
      "Epoch 4900/5000 Loss: 0.187665\n",
      "Epoch 5000/5000 Loss: 0.179616\n"
     ]
    }
   ],
   "source": [
    "# Start training the parameters\n",
    "nb_epochs = 5000\n",
    "for epoch in range(1, nb_epochs+1):\n",
    "    \n",
    "    # linear regression function\n",
    "    prediction = model(x_input)\n",
    "\n",
    "    loss = criterion(prediction, y_output) # Loss function\n",
    "    \n",
    "    optimizer.zero_grad() # initialize by 0 gradient\n",
    "    loss.backward()       # perform backward processing to estimate gradient\n",
    "    optimizer.step()      # carry out gradient descent\n",
    "    \n",
    "    # Print the resutls every 100 steps\n",
    "    if epoch % 100 == 0:\n",
    "        print('Epoch {:4d}/{} Loss: {:.6f}'.format(\n",
    "            epoch, nb_epochs, loss.item() ))"
   ]
  },
  {
   "cell_type": "code",
   "execution_count": 10,
   "metadata": {},
   "outputs": [
    {
     "name": "stdout",
     "output_type": "stream",
     "text": [
      "Predicted values:  [[0.15779433]\n",
      " [0.8702436 ]\n",
      " [0.787988  ]\n",
      " [0.15563214]] \n",
      "Accuracy:  1.0\n"
     ]
    }
   ],
   "source": [
    "# Calculate the accruacy of the trained model\n",
    "with torch.no_grad():\n",
    "    tmp_y_estimate = model(x_input) # prediction from the model\n",
    "    # if the pedicted value is greater than 0.5, it is True. Otherwise, False.\n",
    "    y_estimate = (tmp_y_estimate>0.5).float() \n",
    "    # accuarcy is calculated\n",
    "    accuracy = (y_estimate == y_output).float().mean()\n",
    "    # display the output\n",
    "    print('Predicted values: ', tmp_y_estimate.detach().numpy(),\n",
    "          '\\nAccuracy: ', accuracy.detach().numpy())"
   ]
  },
  {
   "cell_type": "code",
   "execution_count": null,
   "metadata": {},
   "outputs": [],
   "source": []
  }
 ],
 "metadata": {
  "interpreter": {
   "hash": "e39355b3abca102e72acdddf700e58a63b21d72ef28f913022d3f2c77f5fa8f9"
  },
  "kernelspec": {
   "display_name": "Python 3.9.7 64-bit ('py39': conda)",
   "language": "python",
   "name": "python3"
  },
  "language_info": {
   "codemirror_mode": {
    "name": "ipython",
    "version": 3
   },
   "file_extension": ".py",
   "mimetype": "text/x-python",
   "name": "python",
   "nbconvert_exporter": "python",
   "pygments_lexer": "ipython3",
   "version": "3.9.7"
  },
  "orig_nbformat": 4
 },
 "nbformat": 4,
 "nbformat_minor": 2
}
