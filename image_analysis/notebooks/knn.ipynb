{
 "cells": [
  {
   "cell_type": "code",
   "execution_count": 1,
   "metadata": {},
   "outputs": [
    {
     "name": "stdout",
     "output_type": "stream",
     "text": [
      "/root/AIVN-materials/image_analysis\n"
     ]
    }
   ],
   "source": [
    "%cd .."
   ]
  },
  {
   "cell_type": "code",
   "execution_count": 91,
   "metadata": {},
   "outputs": [],
   "source": [
    "import torch\n",
    "import matplotlib.pyplot as plt\n",
    "\n",
    "from knn import KNearestNeighbor\n",
    "from torchvision import datasets, transforms\n",
    "from torchvision.transforms import InterpolationMode\n"
   ]
  },
  {
   "cell_type": "code",
   "execution_count": 46,
   "metadata": {},
   "outputs": [],
   "source": [
    "mean = torch.tensor([0.5, 0.5, 0.5], dtype=torch.float32) \n",
    "std = torch.tensor([0.5, 0.5, 0.5], dtype=torch.float32) \n",
    "transform = transforms.Compose([\n",
    "        transforms.Resize((32, 32), interpolation=InterpolationMode.BICUBIC),\n",
    "        transforms.ToTensor(),\n",
    "        transforms.Normalize(mean=mean.tolist(), std=std.tolist()),\n",
    "        transforms.Lambda(lambda x: torch.flatten(x))\n",
    "])\n",
    "\n",
    "train_data_path = \"/root/splitted_flowers/train\"\n",
    "train_data = datasets.ImageFolder(root=train_data_path, transform=transform)\n",
    "\n",
    "valid_data_path = \"/root/splitted_flowers/valid\"\n",
    "valid_data = datasets.ImageFolder(root=valid_data_path, transform=transform)"
   ]
  },
  {
   "cell_type": "code",
   "execution_count": 68,
   "metadata": {},
   "outputs": [],
   "source": [
    "nn = KNearestNeighbor()\n",
    "nn.train(train_data)"
   ]
  },
  {
   "cell_type": "code",
   "execution_count": 77,
   "metadata": {},
   "outputs": [],
   "source": [
    "X_val = []\n",
    "y_val = []\n",
    "for i in range(len(valid_data)):\n",
    "    X, y = train_data[i]\n",
    "    X_val.append(X)\n",
    "    y_val.append(y)\n",
    "X_val = torch.stack(X_val, dim=0)\n",
    "y_val = torch.tensor(y_val, dtype=torch.int8)"
   ]
  },
  {
   "cell_type": "code",
   "execution_count": 81,
   "metadata": {},
   "outputs": [],
   "source": [
    "from torchmetrics import Accuracy\n",
    "\n",
    "metric = Accuracy()"
   ]
  },
  {
   "cell_type": "code",
   "execution_count": 88,
   "metadata": {},
   "outputs": [],
   "source": [
    "k_choices = [5, 10, 15, 20, 25, 30, 35]\n",
    "accs = []\n",
    "for k in k_choices:\n",
    "    y_pred = nn.predict(X_val, k=k)\n",
    "    accs.append(metric(y_pred, y_val))"
   ]
  },
  {
   "cell_type": "code",
   "execution_count": 92,
   "metadata": {},
   "outputs": [
    {
     "data": {
      "text/plain": [
       "[<matplotlib.lines.Line2D at 0x7f2f8765af70>]"
      ]
     },
     "execution_count": 92,
     "metadata": {},
     "output_type": "execute_result"
    },
    {
     "data": {
      "image/png": "[encoded data removed]",
      "text/plain": [
       "<Figure size 432x288 with 1 Axes>"
      ]
     },
     "metadata": {
      "needs_background": "light"
     },
     "output_type": "display_data"
    }
   ],
   "source": [
    "plt.plot(k_choices, accs)"
   ]
  },
  {
   "cell_type": "code",
   "execution_count": 86,
   "metadata": {},
   "outputs": [
    {
     "data": {
      "text/plain": [
       "tensor(False)"
      ]
     },
     "execution_count": 86,
     "metadata": {},
     "output_type": "execute_result"
    }
   ],
   "source": [
    "torch.all(y_pred == y_val)"
   ]
  }
 ],
 "metadata": {
  "interpreter": {
   "hash": "e39355b3abca102e72acdddf700e58a63b21d72ef28f913022d3f2c77f5fa8f9"
  },
  "kernelspec": {
   "display_name": "Python 3.9.7 64-bit ('py39': conda)",
   "language": "python",
   "name": "python3"
  },
  "language_info": {
   "codemirror_mode": {
    "name": "ipython",
    "version": 3
   },
   "file_extension": ".py",
   "mimetype": "text/x-python",
   "name": "python",
   "nbconvert_exporter": "python",
   "pygments_lexer": "ipython3",
   "version": "3.9.7"
  },
  "orig_nbformat": 4
 },
 "nbformat": 4,
 "nbformat_minor": 2
}
